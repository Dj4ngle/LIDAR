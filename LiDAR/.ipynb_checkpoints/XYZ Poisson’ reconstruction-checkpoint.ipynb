{
 "cells": [
  {
   "cell_type": "code",
   "execution_count": 135,
   "id": "2539d68f",
   "metadata": {
    "scrolled": false
   },
   "outputs": [],
   "source": [
    "import numpy as np\n",
    "import open3d as o3d\n"
   ]
  },
  {
   "cell_type": "code",
   "execution_count": 136,
   "id": "90391ed7",
   "metadata": {},
   "outputs": [],
   "source": [
    "input_path=\"C:/Users/j4ngle/PycharmProjects/LiDAR/\"\n",
    "output_path=\"C:/Users/j4ngle/PycharmProjects/LiDAR/result/\"\n",
    "dataname=\"tree3.xyz\"\n",
    "point_cloud= np.loadtxt(input_path+dataname,skiprows=1)\n"
   ]
  },
  {
   "cell_type": "code",
   "execution_count": 137,
   "id": "493c4aeb",
   "metadata": {},
   "outputs": [],
   "source": [
    "pcd = o3d.geometry.PointCloud()\n",
    "pcd.points = o3d.utility.Vector3dVector(point_cloud[:,:3])\n",
    "pcd.colors = o3d.utility.Vector3dVector(point_cloud[:,3:6]/255)\n",
    "pcd.normals = o3d.utility.Vector3dVector(point_cloud[:,:3])"
   ]
  },
  {
   "cell_type": "code",
   "execution_count": 138,
   "id": "3c43a324",
   "metadata": {},
   "outputs": [],
   "source": [
    "o3d.visualization.draw_geometries([pcd])"
   ]
  },
  {
   "cell_type": "code",
   "execution_count": 139,
   "id": "9ae97560",
   "metadata": {
    "scrolled": true
   },
   "outputs": [
    {
     "name": "stdout",
     "output_type": "stream",
     "text": [
      "avg_dist = \n",
      "0.06421070599973631\n",
      "radius = \n",
      "0.05\n"
     ]
    }
   ],
   "source": [
    "distances = pcd.compute_nearest_neighbor_distance()\n",
    "avg_dist = np.mean(distances)\n",
    "print(\"avg_dist = \")\n",
    "print(avg_dist)\n",
    "#radius = 3 * avg_dist\n",
    "radius = 0.05\n",
    "print(\"radius = \")\n",
    "print(radius)"
   ]
  },
  {
   "cell_type": "code",
   "execution_count": 140,
   "id": "933eb2b1",
   "metadata": {},
   "outputs": [],
   "source": [
    "bpa_mesh = o3d.geometry.TriangleMesh.create_from_point_cloud_ball_pivoting(pcd,o3d.utility.DoubleVector([radius, radius * 2]))"
   ]
  },
  {
   "cell_type": "code",
   "execution_count": 7,
   "id": "28864d0c",
   "metadata": {},
   "outputs": [],
   "source": [
    "#dec_mesh = bpa_mesh.simplify_quadric_decimation(100000)"
   ]
  },
  {
   "cell_type": "code",
   "execution_count": 8,
   "id": "f23b3b4c",
   "metadata": {
    "scrolled": true
   },
   "outputs": [],
   "source": [
    "#dec_mesh.remove_degenerate_triangles()\n",
    "#dec_mesh.remove_duplicated_triangles()\n",
    "#dec_mesh.remove_duplicated_vertices()\n",
    "#dec_mesh.remove_non_manifold_edges()"
   ]
  },
  {
   "cell_type": "code",
   "execution_count": 46,
   "id": "6c29a423",
   "metadata": {},
   "outputs": [],
   "source": [
    "#poisson_mesh = o3d.geometry.TriangleMesh.create_from_point_cloud_poisson(pcd, depth=9, width=0, scale=1.2, linear_fit=True)[0]"
   ]
  },
  {
   "cell_type": "code",
   "execution_count": 47,
   "id": "6a05e805",
   "metadata": {},
   "outputs": [],
   "source": [
    "#bbox = pcd.get_axis_aligned_bounding_box()\n",
    "#p_mesh_crop = poisson_mesh.crop(bbox)"
   ]
  },
  {
   "cell_type": "code",
   "execution_count": 141,
   "id": "6c5c48c3",
   "metadata": {},
   "outputs": [
    {
     "data": {
      "text/plain": [
       "True"
      ]
     },
     "execution_count": 141,
     "metadata": {},
     "output_type": "execute_result"
    }
   ],
   "source": [
    "o3d.io.write_triangle_mesh(output_path+\"bpa_mesh.ply\", bpa_mesh)\n",
    "#o3d.io.write_triangle_mesh(output_path+\"p_mesh_c.ply\", p_mesh_crop)"
   ]
  },
  {
   "cell_type": "code",
   "execution_count": 156,
   "id": "8822ae54",
   "metadata": {},
   "outputs": [
    {
     "name": "stdout",
     "output_type": "stream",
     "text": [
      "Средняя длина ребер: 0.11598167252536706\n"
     ]
    }
   ],
   "source": [
    "import trimesh\n",
    "\n",
    "# Загрузить PLY файл\n",
    "mesh = trimesh.load(\"C:/Users/j4ngle/PycharmProjects/LiDAR/result/bpa_mesh(0.3).ply\")\n",
    "\n",
    "# получить уникальные ребра модели\n",
    "edges = mesh.edges_unique\n",
    "\n",
    "# вычислить длины каждого ребра\n",
    "edge_lengths = mesh.edges_unique_length[0]\n",
    "\n",
    "# вычислить среднюю длину ребер\n",
    "mean_edge_length = edge_lengths.mean()\n",
    "\n",
    "# вывести результат\n",
    "print('Средняя длина ребер:', mean_edge_length)\n"
   ]
  },
  {
   "cell_type": "code",
   "execution_count": 157,
   "id": "d83f13bd",
   "metadata": {},
   "outputs": [
    {
     "name": "stdout",
     "output_type": "stream",
     "text": [
      "Количество разрывов в модели:  29266\n"
     ]
    }
   ],
   "source": [
    "import trimesh\n",
    "\n",
    "# загрузить PLY файл\n",
    "mesh = trimesh.load('C:/Users/j4ngle/PycharmProjects/LiDAR/result/bpa_mesh(0.3).ply')\n",
    "\n",
    "# подсчет количества разрывов\n",
    "num_edges = len(mesh.edges)\n",
    "num_faces = len(mesh.faces)\n",
    "num_vertices = len(mesh.vertices)\n",
    "num_boundaries = num_edges - num_vertices + num_faces\n",
    "num_holes = 1 + (num_boundaries - num_vertices) / 2\n",
    "\n",
    "print(\"Количество разрывов в модели: \", int(num_holes))\n"
   ]
  },
  {
   "cell_type": "code",
   "execution_count": null,
   "id": "2c74e5c8",
   "metadata": {},
   "outputs": [],
   "source": []
  }
 ],
 "metadata": {
  "kernelspec": {
   "display_name": "Python 3 (ipykernel)",
   "language": "python",
   "name": "python3"
  },
  "language_info": {
   "codemirror_mode": {
    "name": "ipython",
    "version": 3
   },
   "file_extension": ".py",
   "mimetype": "text/x-python",
   "name": "python",
   "nbconvert_exporter": "python",
   "pygments_lexer": "ipython3",
   "version": "3.9.13"
  }
 },
 "nbformat": 4,
 "nbformat_minor": 5
}
