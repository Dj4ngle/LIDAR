{
 "cells": [
  {
   "cell_type": "code",
   "execution_count": 19,
   "id": "58eb367b",
   "metadata": {},
   "outputs": [],
   "source": [
    "import numpy as np\n",
    "import open3d as o3d"
   ]
  },
  {
   "cell_type": "code",
   "execution_count": 20,
   "id": "abdb86d5",
   "metadata": {},
   "outputs": [],
   "source": [
    "pcd = o3d.io.read_point_cloud(\"test_trees.pcd\")"
   ]
  },
  {
   "cell_type": "code",
   "execution_count": 21,
   "id": "c7fb13a9",
   "metadata": {},
   "outputs": [],
   "source": [
    "voxel_grid = o3d.geometry.VoxelGrid.create_from_point_cloud(pcd, voxel_size=0.05)"
   ]
  },
  {
   "cell_type": "code",
   "execution_count": 23,
   "id": "6d6f49c3",
   "metadata": {},
   "outputs": [],
   "source": [
    "o3d.visualization.draw_geometries([voxel_grid])\n"
   ]
  },
  {
   "cell_type": "code",
   "execution_count": 34,
   "id": "2ee2b5b1",
   "metadata": {
    "scrolled": true
   },
   "outputs": [],
   "source": [
    "voxel_centers = voxel_grid.get_voxels()"
   ]
  },
  {
   "cell_type": "code",
   "execution_count": 29,
   "id": "1773e8ce",
   "metadata": {},
   "outputs": [
    {
     "ename": "NameError",
     "evalue": "name 'tree_mask' is not defined",
     "output_type": "error",
     "traceback": [
      "\u001b[1;31m---------------------------------------------------------------------------\u001b[0m",
      "\u001b[1;31mNameError\u001b[0m                                 Traceback (most recent call last)",
      "Cell \u001b[1;32mIn[29], line 1\u001b[0m\n\u001b[1;32m----> 1\u001b[0m tree_voxels \u001b[38;5;241m=\u001b[39m voxel_centers[\u001b[43mtree_mask\u001b[49m]\n\u001b[0;32m      2\u001b[0m obb_tree \u001b[38;5;241m=\u001b[39m o3d\u001b[38;5;241m.\u001b[39mgeometry\u001b[38;5;241m.\u001b[39mOrientedBoundingBox\u001b[38;5;241m.\u001b[39mcreate_from_points(tree_voxels)\n\u001b[0;32m      3\u001b[0m tree_crop \u001b[38;5;241m=\u001b[39m pcd\u001b[38;5;241m.\u001b[39mcrop(obb_tree)\n",
      "\u001b[1;31mNameError\u001b[0m: name 'tree_mask' is not defined"
     ]
    }
   ],
   "source": []
  },
  {
   "cell_type": "code",
   "execution_count": null,
   "id": "9810cb13",
   "metadata": {},
   "outputs": [],
   "source": [
    "Произведите финальную обработку 3D-модели дерева по необходимости, например, с помощью методов voxel_down_sample(), estimate_normals() или paint_uniform_color() библиотек"
   ]
  },
  {
   "cell_type": "code",
   "execution_count": null,
   "id": "b273d6b7",
   "metadata": {},
   "outputs": [],
   "source": []
  }
 ],
 "metadata": {
  "kernelspec": {
   "display_name": "Python 3 (ipykernel)",
   "language": "python",
   "name": "python3"
  },
  "language_info": {
   "codemirror_mode": {
    "name": "ipython",
    "version": 3
   },
   "file_extension": ".py",
   "mimetype": "text/x-python",
   "name": "python",
   "nbconvert_exporter": "python",
   "pygments_lexer": "ipython3",
   "version": "3.9.13"
  }
 },
 "nbformat": 4,
 "nbformat_minor": 5
}
