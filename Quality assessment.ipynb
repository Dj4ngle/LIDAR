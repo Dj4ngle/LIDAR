{
 "cells": [
  {
   "cell_type": "code",
   "execution_count": 170,
   "id": "2539d68f",
   "metadata": {
    "scrolled": false
   },
   "outputs": [],
   "source": [
    "import numpy as np\n",
    "import open3d as o3d\n"
   ]
  },
  {
   "cell_type": "code",
   "execution_count": 162,
   "id": "8822ae54",
   "metadata": {},
   "outputs": [
    {
     "name": "stdout",
     "output_type": "stream",
     "text": [
      "Средняя длина ребер: 0.07818049479770393\n"
     ]
    }
   ],
   "source": [
    "import trimesh\n",
    "\n",
    "# Загрузить PLY файл\n",
    "mesh = trimesh.load(\"C:/Users/j4ngle/PycharmProjects/LiDAR/result/tree3.ply\")\n",
    "\n",
    "# получить уникальные ребра модели\n",
    "edges = mesh.edges_unique\n",
    "\n",
    "# вычислить длины каждого ребра\n",
    "edge_lengths = mesh.edges_unique_length[0]\n",
    "\n",
    "# вычислить среднюю длину ребер\n",
    "mean_edge_length = edge_lengths.mean()\n",
    "\n",
    "# вывести результат\n",
    "print('Средняя длина ребер:', mean_edge_length)\n"
   ]
  },
  {
   "cell_type": "code",
   "execution_count": 189,
   "id": "d8542cb9",
   "metadata": {},
   "outputs": [
    {
     "name": "stdout",
     "output_type": "stream",
     "text": [
      "Количество разрывов в модели:  7385\n",
      "Количество полигонов в модели:  5774\n"
     ]
    }
   ],
   "source": [
    "import trimesh\n",
    "\n",
    "# загрузить PLY файл\n",
    "mesh = trimesh.load('C:/Users/j4ngle/PycharmProjects/LiDAR/result/tree3.ply')\n",
    "\n",
    "# подсчет количества разрывов\n",
    "num_edges = len(mesh.edges)\n",
    "num_faces = len(mesh.faces)\n",
    "num_vertices = len(mesh.vertices)\n",
    "num_boundaries = num_edges - num_vertices + num_faces\n",
    "num_holes = 1 + (num_boundaries - num_vertices) / 2\n",
    "num_faces = mesh.faces.shape[0]\n",
    "\n",
    "print(\"Количество разрывов в модели: \", int(num_holes))\n",
    "print(\"Количество полигонов в модели: \", int(num_faces))\n"
   ]
  }
 ],
 "metadata": {
  "kernelspec": {
   "display_name": "Python 3 (ipykernel)",
   "language": "python",
   "name": "python3"
  },
  "language_info": {
   "codemirror_mode": {
    "name": "ipython",
    "version": 3
   },
   "file_extension": ".py",
   "mimetype": "text/x-python",
   "name": "python",
   "nbconvert_exporter": "python",
   "pygments_lexer": "ipython3",
   "version": "3.9.13"
  }
 },
 "nbformat": 4,
 "nbformat_minor": 5
}
