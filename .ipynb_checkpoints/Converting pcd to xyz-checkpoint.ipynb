{
 "cells": [
  {
   "cell_type": "code",
   "execution_count": 14,
   "id": "d95ba2ce-0a15-4701-832c-c7558b146c08",
   "metadata": {},
   "outputs": [],
   "source": [
    "from pyntcloud import PyntCloud\n",
    "import os\n",
    "import numpy as np\n",
    "import open3d as o3d\n",
    "\n",
    "input_folder = \"C:/Users/j4ngle/PycharmProjects/LIDAR/DATA/\"\n",
    "output_folder = \"C:/Users/j4ngle/PycharmProjects/LIDAR/XYZ/\"\n",
    "\n",
    "# Create the output folder if it doesn't exist\n",
    "os.makedirs(output_folder, exist_ok=True)\n",
    "\n",
    "# List all PCD files in the input folder\n",
    "pcd_files = [file for file in os.listdir(input_folder) if file.endswith(\".pcd\")]\n",
    "\n",
    "for pcd_file in pcd_files:\n",
    "    pcd_path = os.path.join(input_folder, pcd_file)\n",
    "    \n",
    "    # Load PCD file using Open3D\n",
    "    pcd = o3d.io.read_point_cloud(pcd_path)\n",
    "    points = np.asarray(pcd.points)\n",
    "    \n",
    "    # Save as XYZ format\n",
    "    xyz_filename = pcd_file.replace(\".pcd\", \".xyz\")\n",
    "    xyz_path = os.path.join(output_folder, xyz_filename)\n",
    "    np.savetxt(xyz_path, points, fmt=\"%.6f\", delimiter=\" \", header=\"X Y Z\", comments=\"\")\n",
    "    \n",
    "    print(f\"Converted {pcd_file} to {xyz_filename}\")\n"
   ]
  },
  {
   "cell_type": "code",
   "execution_count": null,
   "id": "c8921d47-170a-42d3-943d-8e743f7556c8",
   "metadata": {},
   "outputs": [],
   "source": []
  }
 ],
 "metadata": {
  "kernelspec": {
   "display_name": "Python 3 (ipykernel)",
   "language": "python",
   "name": "python3"
  },
  "language_info": {
   "codemirror_mode": {
    "name": "ipython",
    "version": 3
   },
   "file_extension": ".py",
   "mimetype": "text/x-python",
   "name": "python",
   "nbconvert_exporter": "python",
   "pygments_lexer": "ipython3",
   "version": "3.10.8"
  }
 },
 "nbformat": 4,
 "nbformat_minor": 5
}
